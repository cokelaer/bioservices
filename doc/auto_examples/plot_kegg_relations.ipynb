{
  "cells": [
    {
      "cell_type": "code",
      "execution_count": null,
      "metadata": {
        "collapsed": false
      },
      "outputs": [],
      "source": [
        "%matplotlib inline"
      ]
    },
    {
      "cell_type": "markdown",
      "metadata": {},
      "source": [
        "\n# KEGG module example\n\nHistogram of KEGG pathways relations\n"
      ]
    },
    {
      "cell_type": "code",
      "execution_count": null,
      "metadata": {
        "collapsed": false
      },
      "outputs": [],
      "source": [
        "from pylab import *\n\n\n# extract all relations from all pathways\nfrom bioservices.kegg import KEGG\ns = KEGG()\ns.organism = \"hsa\"\n\n# retrieve more than 260 pathways so it takes time\nmax_pathways = 10\nresults = [s.parse_kgml_pathway(x) for x in s.pathwayIds[0:max_pathways]]\nrelations = [x['relations'] for x in results]\n\n# plot\nhist([len(this) for this in relations], 20)\nxlabel('number of relations')\nylabel('#')\ntitle(\"number of relations per pathways\")\ngrid(True)"
      ]
    }
  ],
  "metadata": {
    "kernelspec": {
      "display_name": "Python 3",
      "language": "python",
      "name": "python3"
    },
    "language_info": {
      "codemirror_mode": {
        "name": "ipython",
        "version": 3
      },
      "file_extension": ".py",
      "mimetype": "text/x-python",
      "name": "python",
      "nbconvert_exporter": "python",
      "pygments_lexer": "ipython3",
      "version": "3.7.3"
    }
  },
  "nbformat": 4,
  "nbformat_minor": 0
}