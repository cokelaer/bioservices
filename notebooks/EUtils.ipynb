{
 "cells": [
  {
   "cell_type": "code",
   "execution_count": 1,
   "metadata": {},
   "outputs": [
    {
     "name": "stdout",
     "output_type": "stream",
     "text": [
      "Populating the interactive namespace from numpy and matplotlib\n"
     ]
    },
    {
     "name": "stderr",
     "output_type": "stream",
     "text": [
      "/home/cokelaer/miniconda3/envs/sequana/lib/python3.7/site-packages/IPython/core/magics/pylab.py:160: UserWarning: pylab import has clobbered these variables: ['re', 'plt', 'mpl', 'sys', 'np']\n",
      "`%matplotlib` prevents importing * from pylab and numpy\n",
      "  \"\\n`%matplotlib` prevents importing * from pylab and numpy\"\n"
     ]
    }
   ],
   "source": [
    "# referecence: NCBI website\n",
    "%pylab inline\n",
    "from bioservices import EUtils\n",
    "from easydev import AttrDict"
   ]
  },
  {
   "cell_type": "code",
   "execution_count": 2,
   "metadata": {},
   "outputs": [],
   "source": [
    "e = EUtils()"
   ]
  },
  {
   "cell_type": "code",
   "execution_count": 3,
   "metadata": {
    "tags": []
   },
   "outputs": [],
   "source": [
    "report = e.ESearch('nuccore', term='A/chicken/Hong+Kong/915/97+OR+A/chicken/Hong+Kong/915/1997', usehistory='y')"
   ]
  },
  {
   "cell_type": "code",
   "execution_count": 4,
   "metadata": {
    "tags": []
   },
   "outputs": [],
   "source": [
    "report = AttrDict(**report)"
   ]
  },
  {
   "cell_type": "code",
   "execution_count": 5,
   "metadata": {},
   "outputs": [],
   "source": [
    "import pandas as pd\n",
    "summary = e.ESummary('nuccore', WebEnv=report.webenv, query_key=report.querykey)\n"
   ]
  },
  {
   "cell_type": "code",
   "execution_count": 6,
   "metadata": {
    "tags": []
   },
   "outputs": [],
   "source": [
    "uids = summary['uids']"
   ]
  },
  {
   "cell_type": "code",
   "execution_count": 7,
   "metadata": {},
   "outputs": [
    {
     "data": {
      "text/html": [
       "<div>\n",
       "<style scoped>\n",
       "    .dataframe tbody tr th:only-of-type {\n",
       "        vertical-align: middle;\n",
       "    }\n",
       "\n",
       "    .dataframe tbody tr th {\n",
       "        vertical-align: top;\n",
       "    }\n",
       "\n",
       "    .dataframe thead th {\n",
       "        text-align: right;\n",
       "    }\n",
       "</style>\n",
       "<table border=\"1\" class=\"dataframe\">\n",
       "  <thead>\n",
       "    <tr style=\"text-align: right;\">\n",
       "      <th></th>\n",
       "      <th>accession</th>\n",
       "      <th>description</th>\n",
       "      <th>ids</th>\n",
       "      <th>taxid</th>\n",
       "    </tr>\n",
       "  </thead>\n",
       "  <tbody>\n",
       "    <tr>\n",
       "      <th>0</th>\n",
       "      <td>AF098594.1</td>\n",
       "      <td>Influenza A virus (A/chicken/Hong Kong/915/97(...</td>\n",
       "      <td>gi|6048875|gb|AF098594.1|</td>\n",
       "      <td>100838</td>\n",
       "    </tr>\n",
       "    <tr>\n",
       "      <th>1</th>\n",
       "      <td>AF098581.1</td>\n",
       "      <td>Influenza A virus (A/chicken/Hong Kong/915/97(...</td>\n",
       "      <td>gi|6048849|gb|AF098581.1|</td>\n",
       "      <td>100838</td>\n",
       "    </tr>\n",
       "    <tr>\n",
       "      <th>2</th>\n",
       "      <td>AF098550.1</td>\n",
       "      <td>Influenza A virus (A/chicken/Hong Kong/915/97(...</td>\n",
       "      <td>gi|6048770|gb|AF098550.1|</td>\n",
       "      <td>100838</td>\n",
       "    </tr>\n",
       "    <tr>\n",
       "      <th>3</th>\n",
       "      <td>AF098564.1</td>\n",
       "      <td>Influenza A virus (A/chicken/Hong Kong/915/97(...</td>\n",
       "      <td>gi|6048802|gb|AF098564.1|</td>\n",
       "      <td>100838</td>\n",
       "    </tr>\n",
       "    <tr>\n",
       "      <th>4</th>\n",
       "      <td>AF098620.1</td>\n",
       "      <td>Influenza A virus (A/chicken/Hong Kong/915/97(...</td>\n",
       "      <td>gi|6048927|gb|AF098620.1|</td>\n",
       "      <td>100838</td>\n",
       "    </tr>\n",
       "    <tr>\n",
       "      <th>5</th>\n",
       "      <td>AF098608.1</td>\n",
       "      <td>Influenza A virus (A/chicken/Hong Kong/915/97(...</td>\n",
       "      <td>gi|6048903|gb|AF098608.1|</td>\n",
       "      <td>100838</td>\n",
       "    </tr>\n",
       "    <tr>\n",
       "      <th>6</th>\n",
       "      <td>AF098573.1</td>\n",
       "      <td>Influenza A virus (A/chicken/Hong Kong/915/97(...</td>\n",
       "      <td>gi|6048829|gb|AF098573.1|</td>\n",
       "      <td>100838</td>\n",
       "    </tr>\n",
       "    <tr>\n",
       "      <th>7</th>\n",
       "      <td>AF046100.1</td>\n",
       "      <td>Influenza A virus (A/chicken/Hong Kong/915/199...</td>\n",
       "      <td>gi|3421265|gb|AF046100.1|</td>\n",
       "      <td>380304</td>\n",
       "    </tr>\n",
       "  </tbody>\n",
       "</table>\n",
       "</div>"
      ],
      "text/plain": [
       "    accession                                        description  \\\n",
       "0  AF098594.1  Influenza A virus (A/chicken/Hong Kong/915/97(...   \n",
       "1  AF098581.1  Influenza A virus (A/chicken/Hong Kong/915/97(...   \n",
       "2  AF098550.1  Influenza A virus (A/chicken/Hong Kong/915/97(...   \n",
       "3  AF098564.1  Influenza A virus (A/chicken/Hong Kong/915/97(...   \n",
       "4  AF098620.1  Influenza A virus (A/chicken/Hong Kong/915/97(...   \n",
       "5  AF098608.1  Influenza A virus (A/chicken/Hong Kong/915/97(...   \n",
       "6  AF098573.1  Influenza A virus (A/chicken/Hong Kong/915/97(...   \n",
       "7  AF046100.1  Influenza A virus (A/chicken/Hong Kong/915/199...   \n",
       "\n",
       "                         ids   taxid  \n",
       "0  gi|6048875|gb|AF098594.1|  100838  \n",
       "1  gi|6048849|gb|AF098581.1|  100838  \n",
       "2  gi|6048770|gb|AF098550.1|  100838  \n",
       "3  gi|6048802|gb|AF098564.1|  100838  \n",
       "4  gi|6048927|gb|AF098620.1|  100838  \n",
       "5  gi|6048903|gb|AF098608.1|  100838  \n",
       "6  gi|6048829|gb|AF098573.1|  100838  \n",
       "7  gi|3421265|gb|AF046100.1|  380304  "
      ]
     },
     "execution_count": 7,
     "metadata": {},
     "output_type": "execute_result"
    }
   ],
   "source": [
    "# here you need a little bit of introspection but can easily obtain the accessions, descriptions, ids\n",
    "accession = [summary[s]['accessionversion'] for s in uids]\n",
    "description = [summary[s]['organism'] for s in uids]\n",
    "id_ = [summary[s]['extra'] for s in uids]\n",
    "taxid = [summary[s]['taxid'] for s in uids]\n",
    "\n",
    "\n",
    "pd.DataFrame({'accession':accession, 'description': description, 'ids':id_,'taxid':taxid})\n",
    "    "
   ]
  },
  {
   "cell_type": "code",
   "execution_count": 8,
   "metadata": {},
   "outputs": [
    {
     "data": {
      "text/plain": [
       "b'>AF098594.1 Influenza A virus (A/Chicken/Hong Kong/915/97 (H5N1)) PB1 protein (PB1) gene, partial cds\\nGTCAATCCGACTTTACTTTTCTTAAAAGTGCCAGCGCAAAATGCCATAAGTACCACATTCCCTTATACTG\\nGAGATCCCCCATACAGCCATGGAACAGGAACAGGGTACACCATGGACACAGTCAACAGAACACATCAATA\\nTTCAGAAAAAGGGAGGTGGACAACAAACACAGAGACCGGAGCACCCCAACTCAACCCTATTGATGGACCA\\nTTACCTGAAGATAACGAGCCGAGCGGGTATGCACAGACAGATTGTGTATTGGAAGCAATGGCTTTCCTTG\\nAAGAATCCCACCCAGGACTCTTTGAAAACTCATGTCTTGAAACGATGGAAGTTGTCCAGCAAACGAGAGT\\nGGATAAGCTGACCCAAGGTCGCCAGACCTATGACTGGACATTGAACAGAAACCAGCCGGCTGCAACTGCT\\nTTGGCCAACACCATAGAAGTATTCAGATCGAACGGTCTAACAGCCAATGAGTCAGGAAGGCTAATAGATT\\nTCCTCAAGGACGTAGTGGAATCAATGGATAAGGAAGAAATGGAGATAACAACACATTTCCAGAGAAAGAG\\nAAGAGTGAGGGACAACATGACCAAGAGAATGGTCACACAAAGAACAATAGGGAAAAAGAAGCAAAGGCTG\\nACAAAAAAGAGCTACCTAATAAGAGCACTGACACTGAACACAATGACAAAAGATGCTGAAAGGGGAAAAT\\nTGAAAAGGCGAGCAATTGCAACACCCGGAATGCAAATCAGAGGATTCGTGCACTTTGTCGAAGCACTAGC\\nAAGGAGCATCTGTGAAAAACTTGAGCAATCTGGACTCCCCGTCGGAGGGAATGAGAAGAAGGCTAAATTG\\nGCAAATGTTGTGAGAAAGATGATGACTAACTCACAAGATACAGAGCTCTCCTTTACAGTTACCGGAGACA\\nACACCAAATGGAATGAGAATCAGAATCCTCGAATGTTTCTAGCAATGATAACATACATCACAAGGAACCA\\nACCTGAATGGTTTAGAAATGTCTTGAGCATTGCCCCTATAATGTTCTCAAATAAGATGGCGAGGTTAGGG\\nAAAGGATACATGTTCGAGAGTAAGAGCATGAAGCTACGGACACAAATACCAGCAGAAATGCTTGCAAACA\\nTTGACTTGAAATACTTCAACGAATCAACGAGAAAGAAAATTGAGAAAATAAGACCTCTACTAGTAGAGGG\\nCACAGCCTCATTGAGTCCAGGGATGATGATGGGCATGTTTAATATGCTAAGTACGGTCTTAGGAGTCTCA\\nATCTTAAATCTTGGGCAGAAGAGGTACACCAAAACCACATACTGGTGGGATGGGCTCCAATCCTCTGATG\\nATTTCGCTCTCATAGTGAATGCACCAAATCATGAGGGAATACAAGCAGGAGTGGATAGATTCTATAGGAC\\nTTGCAAACTAGTTGGAATCAACATGAGCAAAAAGAAGTCTTACATAAATCGGACAGGAACATTTGAGTTC\\nACAAGCTTTTTCTACCGCTATGGGTTTGTAGCCAACTTCAGCATGGAGCTGCCCAGCTTTGGAGTTTCCG\\nGAATTAATGAATCGGCTGACATGAGCATTGGAGTTACAGTGATAAAGAATAATATGATAAACAACGACCT\\nTGGACCAGCAACAGCTCAGATGGCTCTTCAGCTGTTCATTAAGGACTACAGATACACCTATCGATGCCAC\\nAGAGGTGATACACAAATTCAAACTAGAAGATCATTTGAATTGAAGAAGCTGTGGGAGCAGACCCGCTCAA\\nAGGCAGGACTGTTGGTTTCAGATGGAGGGCCGAATTTATACAACATCCGGAATCTTCACATTCCAGAAGT\\nTTGCTTGAAGTGGGAGTTGATGGATGAAGATTATCAGGGAAGACTGTGTAACCCTCTGAACCCGTTTGTC\\nAGTCATAAGGAAGTTGAATCCGTCAACAATGCTGTGGTAATGCCAGCCCATGGTCCAGCCAAGAGCATGG\\nAATATGATGCCGTTGCAACTACACATTCATGGATTCCCAAGAGAAACCGCTCCATTCTCAACACTAGCCA\\nAAGGGGAATTCTTGAGGATGAACAAATGTACCAGAAGTGCTGCACTCTATTCGAGAAATTCTTCCCTAGC\\nAGTTCATACCGGAGGCCAGTTGGAATTTCCAGCATGATGGAGGCCATGGTGTCTAGGGCCCGAATTGATG\\nCACGGATTGACTTCGAATCTGGAAGGATTAAGAAAGAAGAATTTGCTGAGATCTTGAA\\n\\n'"
      ]
     },
     "execution_count": 8,
     "metadata": {},
     "output_type": "execute_result"
    }
   ],
   "source": [
    "sequence = e.EFetch('nuccore', uids[0], rettype='fasta', retmode='text', WebEnv=report.webenv, query_key=report.querykey)\n",
    "sequence"
   ]
  },
  {
   "cell_type": "markdown",
   "metadata": {},
   "source": [
    "### Using EGQuery to get H5N1 Related-Records in Entrez\n",
    "\n",
    "To see what other Entrez databases contain information about the H5N1 virus, use EGQuery. EGQuery performs a text search across all available Entrez databases and returns the number of hits in each. EGQuery accepts any valid Entrez text query as input through the term parameter."
   ]
  },
  {
   "cell_type": "code",
   "execution_count": 9,
   "metadata": {
    "tags": []
   },
   "outputs": [],
   "source": [
    "results = e.EGQuery(\"H5N1 virus\")"
   ]
  },
  {
   "cell_type": "code",
   "execution_count": 11,
   "metadata": {},
   "outputs": [
    {
     "data": {
      "text/plain": [
       "{'Term': 'H5N1 virus',\n",
       " 'eGQueryResult': {'ResultItem': [{'DbName': 'pubmed',\n",
       "    'MenuName': 'PubMed',\n",
       "    'Count': '8092',\n",
       "    'Status': 'Ok'},\n",
       "   {'DbName': 'pmc',\n",
       "    'MenuName': 'PubMed Central',\n",
       "    'Count': '27203',\n",
       "    'Status': 'Ok'},\n",
       "   {'DbName': 'mesh', 'MenuName': 'MeSH', 'Count': '1', 'Status': 'Ok'},\n",
       "   {'DbName': 'books', 'MenuName': 'Books', 'Count': '454', 'Status': 'Ok'},\n",
       "   {'DbName': 'pubmedhealth',\n",
       "    'MenuName': 'PubMed Health',\n",
       "    'Count': 'Error',\n",
       "    'Status': 'Database Error'},\n",
       "   {'DbName': 'omim', 'MenuName': 'OMIM', 'Count': '3', 'Status': 'Ok'},\n",
       "   {'DbName': 'ncbisearch',\n",
       "    'MenuName': 'Site Search',\n",
       "    'Count': '7',\n",
       "    'Status': 'Ok'},\n",
       "   {'DbName': 'nuccore',\n",
       "    'MenuName': 'Nucleotide',\n",
       "    'Count': '40091',\n",
       "    'Status': 'Ok'},\n",
       "   {'DbName': 'nucgss', 'MenuName': 'GSS', 'Count': '0', 'Status': 'Ok'},\n",
       "   {'DbName': 'nucest', 'MenuName': 'EST', 'Count': '0', 'Status': 'Ok'},\n",
       "   {'DbName': 'protein',\n",
       "    'MenuName': 'Protein',\n",
       "    'Count': '52592',\n",
       "    'Status': 'Ok'},\n",
       "   {'DbName': 'genome', 'MenuName': 'Genome', 'Count': '1', 'Status': 'Ok'},\n",
       "   {'DbName': 'structure',\n",
       "    'MenuName': 'Structure',\n",
       "    'Count': '235',\n",
       "    'Status': 'Ok'},\n",
       "   {'DbName': 'taxonomy',\n",
       "    'MenuName': 'Taxonomy',\n",
       "    'Count': '0',\n",
       "    'Status': 'Term or Database is not found'},\n",
       "   {'DbName': 'snp',\n",
       "    'MenuName': 'SNP',\n",
       "    'Count': '0',\n",
       "    'Status': 'Term or Database is not found'},\n",
       "   {'DbName': 'dbvar',\n",
       "    'MenuName': 'dbVar',\n",
       "    'Count': '0',\n",
       "    'Status': 'Term or Database is not found'},\n",
       "   {'DbName': 'gene', 'MenuName': 'Gene', 'Count': '100', 'Status': 'Ok'},\n",
       "   {'DbName': 'sra', 'MenuName': 'SRA', 'Count': '705', 'Status': 'Ok'},\n",
       "   {'DbName': 'biosystems',\n",
       "    'MenuName': 'BioSystems',\n",
       "    'Count': 'Error',\n",
       "    'Status': 'Database Error'},\n",
       "   {'DbName': 'unigene', 'MenuName': 'UniGene', 'Count': '0', 'Status': 'Ok'},\n",
       "   {'DbName': 'cdd',\n",
       "    'MenuName': 'Conserved Domains',\n",
       "    'Count': '0',\n",
       "    'Status': 'Term or Database is not found'},\n",
       "   {'DbName': 'clone', 'MenuName': 'Clone', 'Count': '0', 'Status': 'Ok'},\n",
       "   {'DbName': 'popset', 'MenuName': 'PopSet', 'Count': '268', 'Status': 'Ok'},\n",
       "   {'DbName': 'geoprofiles',\n",
       "    'MenuName': 'GEO Profiles',\n",
       "    'Count': '74405',\n",
       "    'Status': 'Ok'},\n",
       "   {'DbName': 'gds',\n",
       "    'MenuName': 'GEO DataSets',\n",
       "    'Count': '183',\n",
       "    'Status': 'Ok'},\n",
       "   {'DbName': 'homologene',\n",
       "    'MenuName': 'HomoloGene',\n",
       "    'Count': '0',\n",
       "    'Status': 'Term or Database is not found'},\n",
       "   {'DbName': 'pccompound',\n",
       "    'MenuName': 'PubChem Compound',\n",
       "    'Count': '0',\n",
       "    'Status': 'Term or Database is not found'},\n",
       "   {'DbName': 'pcsubstance',\n",
       "    'MenuName': 'PubChem Substance',\n",
       "    'Count': '232',\n",
       "    'Status': 'Ok'},\n",
       "   {'DbName': 'pcassay',\n",
       "    'MenuName': 'PubChem BioAssay',\n",
       "    'Count': '1335',\n",
       "    'Status': 'Ok'},\n",
       "   {'DbName': 'nlmcatalog',\n",
       "    'MenuName': 'NLM Catalog',\n",
       "    'Count': '75',\n",
       "    'Status': 'Ok'},\n",
       "   {'DbName': 'probe', 'MenuName': 'Probe', 'Count': '0', 'Status': 'Ok'},\n",
       "   {'DbName': 'gap', 'MenuName': 'dbGaP', 'Count': '1735', 'Status': 'Ok'},\n",
       "   {'DbName': 'proteinclusters',\n",
       "    'MenuName': 'Protein Clusters',\n",
       "    'Count': '0',\n",
       "    'Status': 'Term or Database is not found'},\n",
       "   {'DbName': 'bioproject',\n",
       "    'MenuName': 'BioProject',\n",
       "    'Count': '124',\n",
       "    'Status': 'Ok'},\n",
       "   {'DbName': 'biosample',\n",
       "    'MenuName': 'BioSample',\n",
       "    'Count': '369',\n",
       "    'Status': 'Ok'},\n",
       "   {'DbName': 'biocollections',\n",
       "    'MenuName': 'BioCollections',\n",
       "    'Count': '5',\n",
       "    'Status': 'Ok'}]}}"
      ]
     },
     "execution_count": 11,
     "metadata": {},
     "output_type": "execute_result"
    }
   ],
   "source": [
    "results"
   ]
  },
  {
   "cell_type": "code",
   "execution_count": 17,
   "metadata": {
    "tags": []
   },
   "outputs": [],
   "source": [
    "\n",
    "data = [x['Count'] for x in results['eGQueryResult']['ResultItem'] if x['Count'] != 'Error' and int(x['Count'])>0]\n",
    "index = [x['DbName'] for x in results['eGQueryResult']['ResultItem'] if x['Count'] != 'Error' and int(x.Count)>0]\n"
   ]
  },
  {
   "cell_type": "code",
   "execution_count": 18,
   "metadata": {},
   "outputs": [
    {
     "data": {
      "image/png": "[encoded data removed]",
      "text/plain": [
       "<Figure size 432x288 with 1 Axes>"
      ]
     },
     "metadata": {
      "needs_background": "light"
     },
     "output_type": "display_data"
    }
   ],
   "source": [
    "df = pd.DataFrame(data=data, index=index, dtype=float)  # note the cast into floats\n",
    "df.sort_values(0, ascending=True, inplace=True)\n",
    "\n",
    "_ = log10(df).plot(kind='barh', legend=False, logx=False, \n",
    "            title=\"Number of H5N1 entries in each database\")"
   ]
  },
  {
   "cell_type": "code",
   "execution_count": null,
   "metadata": {
    "collapsed": true,
    "jupyter": {
     "outputs_hidden": true
    }
   },
   "outputs": [],
   "source": []
  }
 ],
 "metadata": {
  "kernelspec": {
   "display_name": "Python 3 (ipykernel)",
   "language": "python",
   "name": "python3"
  },
  "language_info": {
   "codemirror_mode": {
    "name": "ipython",
    "version": 3
   },
   "file_extension": ".py",
   "mimetype": "text/x-python",
   "name": "python",
   "nbconvert_exporter": "python",
   "pygments_lexer": "ipython3",
   "version": "3.7.3"
  }
 },
 "nbformat": 4,
 "nbformat_minor": 4
}
