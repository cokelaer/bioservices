{
 "cells": [
  {
   "cell_type": "markdown",
   "metadata": {},
   "source": [
    "## BioServices introduction"
   ]
  },
  {
   "cell_type": "markdown",
   "metadata": {},
   "source": [
    "**Bioservices** is a Python package that provides access to many Bioinformatices Web Services (e.g.,\n",
    "UniProt) and a framework to easily implement Web Services wrappers (based on \n",
    "WSDL/SOAP or REST protocols).\n"
   ]
  },
  {
   "cell_type": "code",
   "execution_count": 1,
   "metadata": {},
   "outputs": [
    {
     "name": "stdout",
     "output_type": "stream",
     "text": [
      "Populating the interactive namespace from numpy and matplotlib\n"
     ]
    },
    {
     "name": "stderr",
     "output_type": "stream",
     "text": [
      "/home/cokelaer/miniconda3/envs/sequana/lib/python3.7/site-packages/IPython/core/magics/pylab.py:160: UserWarning: pylab import has clobbered these variables: ['sys', 're', 'np', 'plt', 'mpl']\n",
      "`%matplotlib` prevents importing * from pylab and numpy\n",
      "  \"\\n`%matplotlib` prevents importing * from pylab and numpy\"\n"
     ]
    }
   ],
   "source": [
    "from bioservices import *\n",
    "import bioservices\n",
    "%pylab inline"
   ]
  },
  {
   "cell_type": "markdown",
   "metadata": {},
   "source": [
    "### uniprot"
   ]
  },
  {
   "cell_type": "code",
   "execution_count": 2,
   "metadata": {
    "tags": []
   },
   "outputs": [],
   "source": [
    "u = UniProt()"
   ]
  },
  {
   "cell_type": "code",
   "execution_count": 3,
   "metadata": {},
   "outputs": [
    {
     "data": {
      "text/plain": [
       "'>sp|P43403|ZAP70_HUMAN Tyrosine-protein kinase ZAP-70 OS=Homo sapiens OX=9606 GN=ZAP70 PE=1 SV=1\\nMPDPAAHLPFFYGSISRAEAEEHLKLAGMADGLFLLRQCLRSLGGYVLSLVHDVRFHHFP\\nIERQLNGTYAIAGGKAHCGPAELCEFYSRDPDGLPCNLRKPCNRPSGLEPQPGVFDCLRD\\nAMVRDYVRQTWKLEGEALEQAIISQAPQVEKLIATTAHERMPWYHSSLTREEAERKLYSG\\nAQTDGKFLLRPRKEQGTYALSLIYGKTVYHYLISQDKAGKYCIPEGTKFDTLWQLVEYLK\\nLKADGLIYCLKEACPNSSASNASGAAAPTLPAHPSTLTHPQRRIDTLNSDGYTPEPARIT\\nSPDKPRPMPMDTSVYESPYSDPEELKDKKLFLKRDNLLIADIELGCGNFGSVRQGVYRMR\\nKKQIDVAIKVLKQGTEKADTEEMMREAQIMHQLDNPYIVRLIGVCQAEALMLVMEMAGGG\\nPLHKFLVGKREEIPVSNVAELLHQVSMGMKYLEEKNFVHRDLAARNVLLVNRHYAKISDF\\nGLSKALGADDSYYTARSAGKWPLKWYAPECINFRKFSSRSDVWSYGVTMWEALSYGQKPY\\nKKMKGPEVMAFIEQGKRMECPPECPPELYALMSDCWIYKWEDRPDFLTVEQRMRACYYSL\\nASKVEGPPGSTQKAEAACA\\n'"
      ]
     },
     "execution_count": 3,
     "metadata": {},
     "output_type": "execute_result"
    }
   ],
   "source": [
    "u.get_fasta(\"P43403\")"
   ]
  },
  {
   "cell_type": "code",
   "execution_count": 8,
   "metadata": {},
   "outputs": [
    {
     "name": "stdout",
     "output_type": "stream",
     "text": [
      "Entry\tEntry Name\tReviewed\tProtein names\tGene Names\tOrganism\tLength\n",
      "P22681\tCBL_HUMAN\treviewed\tE3 ubiquitin-protein ligase CBL, EC 2.3.2.27 (Casitas B-lineage lymphoma proto-oncogene) (Proto-oncogene c-Cbl) (RING finger protein 55) (RING-type E3 ubiquitin transferase CBL) (Signal transduction protein CBL)\tCBL CBL2 RNF55\tHomo sapiens (Human)\t906\n",
      "P20963\tCD3Z_HUMAN\treviewed\tT-cell surface glycoprotein CD3 zeta chain (T-cell receptor T3 zeta chain) (CD antigen CD247)\tCD247 CD3Z T3Z TCRZ\tHomo sapiens (Human)\t164\n",
      "Q96P31\tFCRL3_HUMAN\treviewed\tFc receptor-like protein 3, FcR-like protein 3, FcRL3 (Fc receptor homolog 3, FcRH3) (IFGP family protein 3, hIFGP3) (Immune receptor translocation-associated protein 3) (SH2 domain-containing phosphatase anchor protein 2) (CD antigen CD307c)\tFCRL3 FCRH3 IFGP3 IRTA3 SPAP2\tHomo sapiens (Human)\t734\n",
      "\n"
     ]
    }
   ],
   "source": [
    "print(u.search(\"ZAP70+AND+taxonomy_id:9606\", limit=3))"
   ]
  },
  {
   "cell_type": "code",
   "execution_count": 9,
   "metadata": {},
   "outputs": [
    {
     "name": "stderr",
     "output_type": "stream",
     "text": [
      "\u001b[33mWARNING [bioservices.UniProt:837]: \u001b[0m \u001b[32mcolumn could not be parsed. lit_pubmed_id\u001b[0m\n",
      "\u001b[33mWARNING [bioservices.UniProt:837]: \u001b[0m \u001b[32mcolumn could not be parsed. protein_families\u001b[0m\n",
      "\u001b[33mWARNING [bioservices.UniProt:837]: \u001b[0m \u001b[32mcolumn could not be parsed. Gene names\u001b[0m\n",
      "\u001b[33mWARNING [bioservices.UniProt:837]: \u001b[0m \u001b[32mcolumn could not be parsed. go\u001b[0m\n",
      "\u001b[33mWARNING [bioservices.UniProt:837]: \u001b[0m \u001b[32mcolumn could not be parsed. go_ids\u001b[0m\n",
      "\u001b[33mWARNING [bioservices.UniProt:837]: \u001b[0m \u001b[32mcolumn could not be parsed. interaction\u001b[0m\n",
      "\u001b[33mWARNING [bioservices.UniProt:837]: \u001b[0m \u001b[32mcolumn could not be parsed. keyword\u001b[0m\n"
     ]
    }
   ],
   "source": [
    "df = u.get_df(\"P43403\")"
   ]
  },
  {
   "cell_type": "code",
   "execution_count": 11,
   "metadata": {},
   "outputs": [
    {
     "data": {
      "text/html": [
       "<div>\n",
       "<style scoped>\n",
       "    .dataframe tbody tr th:only-of-type {\n",
       "        vertical-align: middle;\n",
       "    }\n",
       "\n",
       "    .dataframe tbody tr th {\n",
       "        vertical-align: top;\n",
       "    }\n",
       "\n",
       "    .dataframe thead th {\n",
       "        text-align: right;\n",
       "    }\n",
       "</style>\n",
       "<table border=\"1\" class=\"dataframe\">\n",
       "  <thead>\n",
       "    <tr style=\"text-align: right;\">\n",
       "      <th></th>\n",
       "      <th>Entry</th>\n",
       "      <th>Entry Name</th>\n",
       "      <th>Gene Names</th>\n",
       "      <th>Gene Names (primary)</th>\n",
       "      <th>Gene Names (synonym)</th>\n",
       "      <th>Gene Names (ordered locus)</th>\n",
       "      <th>Gene Names (ORF)</th>\n",
       "      <th>Organism</th>\n",
       "      <th>Organism (ID)</th>\n",
       "      <th>Protein names</th>\n",
       "      <th>...</th>\n",
       "      <th>Glycosylation</th>\n",
       "      <th>Initiator methionine</th>\n",
       "      <th>Lipidation</th>\n",
       "      <th>Modified residue</th>\n",
       "      <th>Peptide</th>\n",
       "      <th>Post-translational modification</th>\n",
       "      <th>Propeptide</th>\n",
       "      <th>Signal peptide</th>\n",
       "      <th>Transit peptide</th>\n",
       "      <th>PDB</th>\n",
       "    </tr>\n",
       "  </thead>\n",
       "  <tbody>\n",
       "    <tr>\n",
       "      <th>0</th>\n",
       "      <td>P43403</td>\n",
       "      <td>ZAP70_HUMAN</td>\n",
       "      <td>ZAP70 SRK</td>\n",
       "      <td>ZAP70</td>\n",
       "      <td>SRK</td>\n",
       "      <td>NaN</td>\n",
       "      <td>NaN</td>\n",
       "      <td>Homo sapiens (Human)</td>\n",
       "      <td>9606</td>\n",
       "      <td>Tyrosine-protein kinase ZAP-70, EC 2.7.10.2 (7...</td>\n",
       "      <td>...</td>\n",
       "      <td>NaN</td>\n",
       "      <td>NaN</td>\n",
       "      <td>NaN</td>\n",
       "      <td>MOD_RES 248; /note=\"Phosphotyrosine\"; /evidenc...</td>\n",
       "      <td>NaN</td>\n",
       "      <td>PTM: Phosphorylated on tyrosine residues upon ...</td>\n",
       "      <td>NaN</td>\n",
       "      <td>NaN</td>\n",
       "      <td>NaN</td>\n",
       "      <td>1FBV;1M61;1U59;2CBL;2OQ1;2OZO;2Y1N;3ZNI;4A4B;4...</td>\n",
       "    </tr>\n",
       "  </tbody>\n",
       "</table>\n",
       "<p>1 rows × 113 columns</p>\n",
       "</div>"
      ],
      "text/plain": [
       "    Entry   Entry Name Gene Names Gene Names (primary) Gene Names (synonym)  \\\n",
       "0  P43403  ZAP70_HUMAN  ZAP70 SRK                ZAP70                  SRK   \n",
       "\n",
       "   Gene Names (ordered locus)  Gene Names (ORF)              Organism  \\\n",
       "0                         NaN               NaN  Homo sapiens (Human)   \n",
       "\n",
       "   Organism (ID)                                      Protein names  ...  \\\n",
       "0           9606  Tyrosine-protein kinase ZAP-70, EC 2.7.10.2 (7...  ...   \n",
       "\n",
       "  Glycosylation Initiator methionine  Lipidation  \\\n",
       "0           NaN                  NaN         NaN   \n",
       "\n",
       "                                    Modified residue Peptide  \\\n",
       "0  MOD_RES 248; /note=\"Phosphotyrosine\"; /evidenc...     NaN   \n",
       "\n",
       "                     Post-translational modification  Propeptide  \\\n",
       "0  PTM: Phosphorylated on tyrosine residues upon ...         NaN   \n",
       "\n",
       "   Signal peptide Transit peptide  \\\n",
       "0             NaN             NaN   \n",
       "\n",
       "                                                 PDB  \n",
       "0  1FBV;1M61;1U59;2CBL;2OQ1;2OZO;2Y1N;3ZNI;4A4B;4...  \n",
       "\n",
       "[1 rows x 113 columns]"
      ]
     },
     "execution_count": 11,
     "metadata": {},
     "output_type": "execute_result"
    }
   ],
   "source": [
    "df"
   ]
  },
  {
   "cell_type": "markdown",
   "metadata": {},
   "source": [
    "### Ensembl"
   ]
  },
  {
   "cell_type": "code",
   "execution_count": 12,
   "metadata": {
    "tags": []
   },
   "outputs": [
    {
     "name": "stderr",
     "output_type": "stream",
     "text": [
      "\u001b[33mWARNING [bioservices.Ensembl:130]: \u001b[0m \u001b[32mThe URL (http://rest.ensembl.org) provided cannot be reached.\u001b[0m\n"
     ]
    }
   ],
   "source": [
    "s = Ensembl()"
   ]
  },
  {
   "cell_type": "code",
   "execution_count": 13,
   "metadata": {},
   "outputs": [
    {
     "data": {
      "text/plain": [
       "dict_keys(['logic_name', 'id', 'description', 'start', 'source', 'strand', 'end', 'Transcript', 'species', 'db_type', 'version', 'canonical_transcript', 'seq_region_name', 'display_name', 'biotype', 'assembly_name', 'object_type'])"
      ]
     },
     "execution_count": 13,
     "metadata": {},
     "output_type": "execute_result"
    }
   ],
   "source": [
    "res = s.get_lookup_by_id('ENSG00000157764', expand=True)\n",
    "res.keys()\n"
   ]
  },
  {
   "cell_type": "markdown",
   "metadata": {},
   "source": [
    "### WikiPathway"
   ]
  },
  {
   "cell_type": "code",
   "execution_count": 14,
   "metadata": {},
   "outputs": [
    {
     "name": "stderr",
     "output_type": "stream",
     "text": [
      "\u001b[32mINFO    [bioservices.WikiPathways:363]: \u001b[0m \u001b[32mInitialising WikiPathways service (REST)\u001b[0m\n",
      "\u001b[32mINFO    [bioservices.WikiPathways:78]: \u001b[0m \u001b[32mFetching organisms...\u001b[0m\n",
      "\u001b[33mWARNING [bioservices.WikiPathways:687]: \u001b[0m \u001b[32mURL of the services contains a double //.Check your URL and remove trailing /\u001b[0m\n"
     ]
    }
   ],
   "source": [
    "s = WikiPathways()"
   ]
  },
  {
   "cell_type": "code",
   "execution_count": 15,
   "metadata": {},
   "outputs": [],
   "source": [
    "im = s.getColoredPathway(\"WP1471\")"
   ]
  },
  {
   "cell_type": "code",
   "execution_count": 16,
   "metadata": {
    "tags": []
   },
   "outputs": [],
   "source": [
    "from IPython.display import SVG"
   ]
  },
  {
   "cell_type": "code",
   "execution_count": 18,
   "metadata": {},
   "outputs": [
    {
     "data": {
      "text/plain": [
       "{'data': 'getColoredPathway service is currently not available'}"
      ]
     },
     "execution_count": 18,
     "metadata": {},
     "output_type": "execute_result"
    }
   ],
   "source": [
    "SVG(im)"
   ]
  },
  {
   "cell_type": "markdown",
   "metadata": {},
   "source": [
    "### ChEMBL"
   ]
  },
  {
   "cell_type": "code",
   "execution_count": 19,
   "metadata": {
    "tags": []
   },
   "outputs": [
    {
     "name": "stderr",
     "output_type": "stream",
     "text": [
      "\u001b[33mWARNING [bioservices.ChEMBL:130]: \u001b[0m \u001b[32mThe URL (https://www.ebi.ac.uk/chembl/api/data) provided cannot be reached.\u001b[0m\n"
     ]
    }
   ],
   "source": [
    "s = ChEMBL()"
   ]
  },
  {
   "cell_type": "code",
   "execution_count": 20,
   "metadata": {},
   "outputs": [
    {
     "ename": "AttributeError",
     "evalue": "'ChEMBL' object has no attribute 'get_compounds_by_chemblId'",
     "output_type": "error",
     "traceback": [
      "\u001b[0;31m---------------------------------------------------------------------------\u001b[0m",
      "\u001b[0;31mAttributeError\u001b[0m                            Traceback (most recent call last)",
      "\u001b[0;32m/tmp/ipykernel_3254650/1877814352.py\u001b[0m in \u001b[0;36m<module>\u001b[0;34m\u001b[0m\n\u001b[0;32m----> 1\u001b[0;31m \u001b[0mres\u001b[0m \u001b[0;34m=\u001b[0m \u001b[0ms\u001b[0m\u001b[0;34m.\u001b[0m\u001b[0mget_compounds_by_chemblId\u001b[0m\u001b[0;34m(\u001b[0m\u001b[0;34m[\u001b[0m\u001b[0;34m'CHEMBL%s'\u001b[0m \u001b[0;34m%\u001b[0m \u001b[0mi\u001b[0m \u001b[0;32mfor\u001b[0m \u001b[0mi\u001b[0m \u001b[0;32min\u001b[0m \u001b[0mrange\u001b[0m\u001b[0;34m(\u001b[0m\u001b[0;36m0\u001b[0m\u001b[0;34m,\u001b[0m\u001b[0;36m1000\u001b[0m\u001b[0;34m)\u001b[0m\u001b[0;34m]\u001b[0m\u001b[0;34m)\u001b[0m\u001b[0;34m\u001b[0m\u001b[0;34m\u001b[0m\u001b[0m\n\u001b[0m",
      "\u001b[0;31mAttributeError\u001b[0m: 'ChEMBL' object has no attribute 'get_compounds_by_chemblId'"
     ]
    }
   ],
   "source": [
    "res = s.get_compounds_by_chemblId(['CHEMBL%s' % i for i in range(0,1000)])"
   ]
  },
  {
   "cell_type": "code",
   "execution_count": null,
   "metadata": {},
   "outputs": [],
   "source": [
    "res[1]"
   ]
  },
  {
   "cell_type": "code",
   "execution_count": null,
   "metadata": {},
   "outputs": [],
   "source": [
    "# here this look a bit esoteric but what we do if to remove the 404 numbers\n",
    "# and transform the data into a nice dataframe for easy plotting of some \n",
    "# relevant information \n",
    "import pandas as pd\n",
    "df = pd.DataFrame(\n",
    "    [dict(this['compound']) for this in res if this!=404], \n",
    "    index=[this['compound']['chemblId'] for this in res if this!=404])\n",
    "\n",
    "df.plot(x='molecularWeight', y='alogp', marker='o', kind='scatter', \n",
    "        fontsize=20)"
   ]
  },
  {
   "cell_type": "markdown",
   "metadata": {},
   "source": [
    "### KEGG"
   ]
  },
  {
   "cell_type": "code",
   "execution_count": null,
   "metadata": {},
   "outputs": [],
   "source": [
    "k = KEGG(verbose=True)"
   ]
  },
  {
   "cell_type": "code",
   "execution_count": null,
   "metadata": {},
   "outputs": [],
   "source": [
    "k.lookfor_pathway(\"B cell\")"
   ]
  },
  {
   "cell_type": "code",
   "execution_count": null,
   "metadata": {},
   "outputs": [],
   "source": [
    "k.show_pathway(\"path:hsa04662\")"
   ]
  }
 ],
 "metadata": {
  "kernelspec": {
   "display_name": "Python 3 (ipykernel)",
   "language": "python",
   "name": "python3"
  },
  "language_info": {
   "codemirror_mode": {
    "name": "ipython",
    "version": 3
   },
   "file_extension": ".py",
   "mimetype": "text/x-python",
   "name": "python",
   "nbconvert_exporter": "python",
   "pygments_lexer": "ipython3",
   "version": "3.7.3"
  }
 },
 "nbformat": 4,
 "nbformat_minor": 4
}
