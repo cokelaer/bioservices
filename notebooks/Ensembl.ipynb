{
 "cells": [
  {
   "cell_type": "markdown",
   "id": "235208ca",
   "metadata": {},
   "source": [
    "# Accessing Ensembl with BioServices\n",
    "\n",
    "**This notebook is used to test the BioServices API.** \n",
    "\n",
    "**Test with BioServices 1.3.4**\n",
    "\n",
    "**author: TC**\n",
    "\n",
    "It is based on the Ensembl API and do not provide other examples. \n",
    "For more advanced usage, please see other Ensembl Notebooks provided in BioServices\n",
    "\n",
    "- [Introductory example](#introduction)\n",
    "- [Archive](#archive)\n",
    "- [Comparative genomics](#comparative)\n",
    "- [Cross References](#reference)\n",
    "- [Information](#information)\n",
    "- [Lookup](#lookup)\n",
    "- [Mapping](#mapping)\n",
    "- [Ontology and Taxonomy](#ontology)\n",
    "- [Overlap](#overlap)\n",
    "- [Regulation](#regulation)\n",
    "- [Sequences](#sequences)\n",
    "- [Variation](#variation)\n",
    "\n",
    " **References**   : http://rest.ensembl.org/ \n",
    "             "
   ]
  },
  {
   "cell_type": "code",
   "execution_count": 1,
   "id": "32527a8c",
   "metadata": {
    "collapsed": false,
    "jupyter": {
     "outputs_hidden": false
    }
   },
   "outputs": [
    {
     "data": {
      "text/plain": [
       "<module 'bioservices.ensembl' from '/home/cokelaer/Work/github/bioservices/src/bioservices/ensembl.pyc'>"
      ]
     },
     "execution_count": 1,
     "metadata": {},
     "output_type": "execute_result"
    }
   ],
   "source": [
    "from bioservices import ensembl\n",
    "# for debugigng\n",
    "reload(ensembl)"
   ]
  },
  {
   "cell_type": "code",
   "execution_count": 2,
   "id": "295e7bb6",
   "metadata": {
    "collapsed": false,
    "jupyter": {
     "outputs_hidden": false
    }
   },
   "outputs": [],
   "source": [
    "e = ensembl.Ensembl()"
   ]
  },
  {
   "cell_type": "markdown",
   "id": "91431ce2",
   "metadata": {},
   "source": [
    "## <a name=\"introduction\"></a> Introductory example"
   ]
  },
  {
   "cell_type": "markdown",
   "id": "5836c56b",
   "metadata": {},
   "source": [
    "- Most of the methods take one or 2 compulsary arguments\n",
    "- Some are just informative (the get_info family)\n",
    "- An argument that is not part of the Ensembl API is **frmt**. It can be set to one of the Ensembl output format that is. The valid list of format\n",
    "depends on the method. Those two are always available:\n",
    "    - json\n",
    "    - jsonp\n",
    "- By default, output is in json format, which is transformed into a Python dictionary"
   ]
  },
  {
   "cell_type": "code",
   "execution_count": 3,
   "id": "333c4bbb",
   "metadata": {
    "collapsed": false,
    "jupyter": {
     "outputs_hidden": false
    }
   },
   "outputs": [
    {
     "data": {
      "text/plain": [
       "{u'assembly': u'GRCh38',\n",
       " u'id': u'ENSG00000157764',\n",
       " u'is_current': u'1',\n",
       " u'latest': u'ENSG00000157764.10',\n",
       " u'peptide': None,\n",
       " u'possible_replacement': [],\n",
       " u'release': u'77',\n",
       " u'type': u'Gene',\n",
       " u'version': u'10'}"
      ]
     },
     "execution_count": 3,
     "metadata": {},
     "output_type": "execute_result"
    }
   ],
   "source": [
    "res = e.get_archive('ENSG00000157764')\n",
    "res"
   ]
  },
  {
   "cell_type": "markdown",
   "id": "bdb863a3",
   "metadata": {},
   "source": [
    "In the following example, the format can be phyloxml"
   ]
  },
  {
   "cell_type": "code",
   "execution_count": 4,
   "id": "8cea22e6",
   "metadata": {
    "collapsed": false,
    "jupyter": {
     "outputs_hidden": false
    }
   },
   "outputs": [
    {
     "name": "stdout",
     "output_type": "stream",
     "text": [
      "<html>\n",
      " <head>\n",
      "  <title>\n",
      "   EnsEMBL::REST\n",
      "  </title>\n",
      " </head>\n",
      " <body>\n",
      "  <pre>--- \n",
      "assembly: GRCh38\n",
      "id: ENSG00000157764\n",
      "is_current: 1\n",
      "latest: ENSG00000157764.10\n",
      "peptide: ~\n",
      "possible_replacement: []\n",
      "\n",
      "release: 77\n",
      "type: Gene\n",
      "version: 10\n",
      "</pre>\n",
      " </body>\n",
      "</html>\n"
     ]
    }
   ],
   "source": [
    "print(e.get_archive('ENSG00000157764', frmt='xml'))"
   ]
  },
  {
   "cell_type": "markdown",
   "id": "79bd3905",
   "metadata": {},
   "source": [
    "Here is another example where the requested frmt is json but there is a\n",
    "parameter to specify the format (nh_format)"
   ]
  },
  {
   "cell_type": "code",
   "execution_count": 5,
   "id": "f11aaab2",
   "metadata": {
    "collapsed": false,
    "jupyter": {
     "outputs_hidden": false
    }
   },
   "outputs": [
    {
     "name": "stdout",
     "output_type": "stream",
     "text": [
      "<?xml version=\"1.0\" encoding=\"UTF-8\"?>\n",
      "\n",
      "<phyloxml xsi:schemaLocation=\"http://www.phyloxml.org http:/\n"
     ]
    }
   ],
   "source": [
    "res = e.get_genetree_by_member_id('ENSG00000157764', frmt='json', \n",
    "                                  nh_format='phylip')\n",
    "print(res[0:100])"
   ]
  },
  {
   "cell_type": "markdown",
   "id": "0740e23b",
   "metadata": {},
   "source": [
    "> Here, the input frmt (json) is changed since nh_format can be only in phyloxml format. When  a parameter specifies the format, it may overwrite the value of the argument **frmt** even if provided. \n"
   ]
  },
  {
   "cell_type": "code",
   "execution_count": 6,
   "id": "90cddd73",
   "metadata": {
    "collapsed": false,
    "jupyter": {
     "outputs_hidden": false
    }
   },
   "outputs": [
    {
     "data": {
      "text/plain": [
       "(500,\n",
       " {u'assembly_name': u'GRCh38',\n",
       "  u'coord_system': u'chromosome',\n",
       "  u'end': 140924703,\n",
       "  u'gap': 0,\n",
       "  u'rank': 0,\n",
       "  u'seq_region_name': u'7',\n",
       "  u'start': 140924566,\n",
       "  u'strand': -1})"
      ]
     },
     "execution_count": 6,
     "metadata": {},
     "output_type": "execute_result"
    }
   ],
   "source": [
    "# If your identifier is incorrect, you'll get a 500 error code \n",
    "# returned (most probably)\n",
    "wrong = e.get_map_cds_to_region('ENST0000288602', '1..1000')\n",
    "good = e.get_map_cds_to_region('ENST00000288602', '1..1000')\n",
    "wrong, good['mappings'][0]\n"
   ]
  },
  {
   "cell_type": "markdown",
   "id": "1393eeb8",
   "metadata": {},
   "source": [
    "## <a name=\"archive\"></a> Archive"
   ]
  },
  {
   "cell_type": "code",
   "execution_count": 7,
   "id": "ed72c09b",
   "metadata": {
    "collapsed": false,
    "jupyter": {
     "outputs_hidden": false
    }
   },
   "outputs": [],
   "source": [
    "# Get archived sequence given an identifer\n",
    "archive = e.get_archive('ENSG00000157764')"
   ]
  },
  {
   "cell_type": "code",
   "execution_count": 8,
   "id": "c6d1b9e1",
   "metadata": {
    "collapsed": false,
    "jupyter": {
     "outputs_hidden": false
    }
   },
   "outputs": [],
   "source": [
    "identifiers = [\"ENSG00000157764\", \"ENSG00000248378\" ]\n",
    "archives = e.post_archive(identifiers)\n",
    "assert archive == archives[0]"
   ]
  },
  {
   "cell_type": "markdown",
   "id": "7b909fcb",
   "metadata": {},
   "source": [
    "## <a name=\"comparative\"></a> Comparative genomics"
   ]
  },
  {
   "cell_type": "markdown",
   "id": "40c6ab31",
   "metadata": {},
   "source": [
    "### Gene tree by identifier"
   ]
  },
  {
   "cell_type": "code",
   "execution_count": 9,
   "id": "70395d86",
   "metadata": {
    "collapsed": false,
    "jupyter": {
     "outputs_hidden": false
    }
   },
   "outputs": [
    {
     "data": {
      "text/plain": [
       "(u'ENSGT00390000003602', [u'type', u'tree', u'rooted', u'id'])"
      ]
     },
     "execution_count": 9,
     "metadata": {},
     "output_type": "execute_result"
    }
   ],
   "source": [
    "res = e.get_genetree_by_id('ENSGT00390000003602', nh_format='simple')\n",
    "res['id'], res.keys()"
   ]
  },
  {
   "cell_type": "code",
   "execution_count": 10,
   "id": "db8f4ca5",
   "metadata": {
    "collapsed": false,
    "jupyter": {
     "outputs_hidden": false
    }
   },
   "outputs": [
    {
     "name": "stdout",
     "output_type": "stream",
     "text": [
      "<?xml version=\"1.0\" encoding=\"UTF-8\"?>\n",
      "\n",
      "<phyloxml xsi:schemaLocation=\"http://www.phyloxml.org http://www.phyloxml.org/1.10/phyloxml.xsd\" xmlns:xsi=\"http://www.w3.org/2001/XMLSchema-instance\" xmlns=\"ht\n"
     ]
    }
   ],
   "source": [
    "res = e.get_genetree_by_id('ENSGT00390000003602', frmt='phyloxml')\n",
    "print(res[0:200])"
   ]
  },
  {
   "cell_type": "markdown",
   "id": "97d8b120",
   "metadata": {},
   "source": [
    "Retrieve genetree by member id and returns a phylip structure\n",
    "This takes a few seconds and output xml is large`"
   ]
  },
  {
   "cell_type": "code",
   "execution_count": 11,
   "id": "ac002b00",
   "metadata": {
    "collapsed": false,
    "jupyter": {
     "outputs_hidden": false
    }
   },
   "outputs": [],
   "source": [
    "# Here, the input frmt (json) is changed since nh_format can be \n",
    "# only in phyloxml format\n",
    "res = e.get_genetree_by_member_id('ENSG00000157764', frmt='json', \n",
    "                                  nh_format='phylip')"
   ]
  },
  {
   "cell_type": "code",
   "execution_count": 12,
   "id": "18927230",
   "metadata": {
    "collapsed": false,
    "jupyter": {
     "outputs_hidden": false
    }
   },
   "outputs": [
    {
     "data": {
      "text/plain": [
       "2235232"
      ]
     },
     "execution_count": 12,
     "metadata": {},
     "output_type": "execute_result"
    }
   ],
   "source": [
    "len(res)"
   ]
  },
  {
   "cell_type": "code",
   "execution_count": 13,
   "id": "2b88c05e",
   "metadata": {
    "collapsed": false,
    "jupyter": {
     "outputs_hidden": false
    }
   },
   "outputs": [
    {
     "name": "stdout",
     "output_type": "stream",
     "text": [
      "<?xml version=\"1.0\" encoding=\"UTF-8\"?>\n",
      "\n",
      "<phyloxml xsi:schemaLocation=\"http://www.phyloxml.org http://www.phyloxml.org/1.10/phyloxml.xsd\" xmlns:xsi=\"http://www.w3.org/2001/XMLSchema-instance\" xmlns=\"http://www.phyloxml.org\">\n",
      "  <phylogeny rooted=\"true\" type=\"gene tree\">\n",
      "    <clade branch_length=\"0\">\n",
      "      <taxonomy>\n",
      "        <id>33213</id>\n",
      "        <scientific_name>Bilateria</scientific_name>\n",
      "      </taxonomy>\n",
      "      <events>\n",
      "        <type>speciation_or_duplication</type>\n",
      "        <duplications>1</dup\n"
     ]
    }
   ],
   "source": [
    "print(res[0:500])"
   ]
  },
  {
   "cell_type": "code",
   "execution_count": 14,
   "id": "be3238c1",
   "metadata": {
    "collapsed": false,
    "jupyter": {
     "outputs_hidden": false
    }
   },
   "outputs": [],
   "source": [
    "res = e.get_genetree_by_member_symbol('human', 'BRCA2', \n",
    "                                      nh_format='simple')"
   ]
  },
  {
   "cell_type": "code",
   "execution_count": 15,
   "id": "aa8097df",
   "metadata": {
    "collapsed": false,
    "jupyter": {
     "outputs_hidden": false
    }
   },
   "outputs": [
    {
     "name": "stdout",
     "output_type": "stream",
     "text": [
      "((((((((ENSPFOP00000001575:0.046083,ENSXMAP00000006983:0.065551):0.43822,ENSONIP00000006940:0.359035):0.019582,((ENSTRUP00000015030:0.077336,ENSTNIP00000002435:0.099898):0.208834,ENSGACP00000015199:0.\n"
     ]
    }
   ],
   "source": [
    "print(res[0:200])"
   ]
  },
  {
   "cell_type": "code",
   "execution_count": 16,
   "id": "a839fa67",
   "metadata": {
    "collapsed": false,
    "jupyter": {
     "outputs_hidden": false
    }
   },
   "outputs": [
    {
     "data": {
      "text/plain": [
       "u'((gallus_gallus_2_100370206_100370256[+]:0.0414,meleagris_gallopavo_3_49885157_49885207[+]:0.0414)Ggal-Mgal[2]:0.1242,taeniopygia_guttata_2_106040000_106040050[+]:0.1715)Ggal-Mgal-Tgut[3]:0.3044;'"
      ]
     },
     "execution_count": 16,
     "metadata": {},
     "output_type": "execute_result"
    }
   ],
   "source": [
    "region = '2:106040000-106040050'\n",
    "species = 'taeniopygia_guttata'\n",
    "res = e.get_alignment_by_region(region, species, \n",
    "                                species_set_group='sauropsids')\n",
    "res[0]['tree']\n"
   ]
  },
  {
   "cell_type": "code",
   "execution_count": 17,
   "id": "3a9b66a8",
   "metadata": {
    "collapsed": false,
    "jupyter": {
     "outputs_hidden": false
    }
   },
   "outputs": [],
   "source": [
    "res = e.get_homology_by_id('ENSG00000157764')"
   ]
  },
  {
   "cell_type": "code",
   "execution_count": 18,
   "id": "946fb7a8",
   "metadata": {
    "collapsed": false,
    "jupyter": {
     "outputs_hidden": false
    }
   },
   "outputs": [],
   "source": [
    "res = e.get_homology_by_id('ENSG00000157764', frmt='xml')\n"
   ]
  },
  {
   "cell_type": "code",
   "execution_count": 19,
   "id": "f5d5d5f9",
   "metadata": {
    "collapsed": false,
    "jupyter": {
     "outputs_hidden": false
    }
   },
   "outputs": [
    {
     "data": {
      "text/plain": [
       "{u'homologies': [{u'id': u'ENSMUSG00000002413',\n",
       "   u'method_link_type': u'ENSEMBL_ORTHOLOGUES',\n",
       "   u'protein_id': u'ENSMUSP00000002487',\n",
       "   u'species': u'mus_musculus',\n",
       "   u'taxonomy_level': u'Euarchontoglires',\n",
       "   u'type': u'ortholog_one2one'}],\n",
       " u'id': u'ENSG00000157764'}"
      ]
     },
     "execution_count": 19,
     "metadata": {},
     "output_type": "execute_result"
    }
   ],
   "source": [
    "res = e.get_homology_by_id('ENSG00000157764', format='condensed', \n",
    "                           type='orthologues', target_taxon='10090')\n",
    "res['data'][0]"
   ]
  },
  {
   "cell_type": "markdown",
   "id": "2df877a0",
   "metadata": {},
   "source": [
    "## <a name=\"reference\"></a> Cross references"
   ]
  },
  {
   "cell_type": "code",
   "execution_count": 20,
   "id": "7a512cfb",
   "metadata": {
    "collapsed": false,
    "jupyter": {
     "outputs_hidden": false
    }
   },
   "outputs": [
    {
     "data": {
      "text/plain": [
       "{u'db_display_name': u'PDB',\n",
       " u'dbname': u'PDB',\n",
       " u'description': None,\n",
       " u'display_id': u'1UWH',\n",
       " u'info_text': u'',\n",
       " u'info_type': u'DEPENDENT',\n",
       " u'primary_id': u'1UWH',\n",
       " u'synonyms': [],\n",
       " u'version': u'0'}"
      ]
     },
     "execution_count": 20,
     "metadata": {},
     "output_type": "execute_result"
    }
   ],
   "source": [
    "res = e.get_xrefs_by_id('ENST00000288602', external_db='PDB', \n",
    "                        all_levels=True)\n",
    "res[0]"
   ]
  },
  {
   "cell_type": "code",
   "execution_count": 21,
   "id": "b19d3c4f",
   "metadata": {
    "collapsed": false,
    "jupyter": {
     "outputs_hidden": false
    }
   },
   "outputs": [
    {
     "data": {
      "text/plain": [
       "{u'db_display_name': u'Vega gene',\n",
       " u'dbname': u'Vega_gene',\n",
       " u'description': None,\n",
       " u'display_id': u'BRCA2',\n",
       " u'info_text': u'',\n",
       " u'info_type': u'NONE',\n",
       " u'primary_id': u'OTTHUMG00000017411',\n",
       " u'synonyms': [],\n",
       " u'version': u'1'}"
      ]
     },
     "execution_count": 21,
     "metadata": {},
     "output_type": "execute_result"
    }
   ],
   "source": [
    "res = e.get_xrefs_by_name('BRCA2', 'human')    \n",
    "res[0]\n"
   ]
  },
  {
   "cell_type": "code",
   "execution_count": 22,
   "id": "baa09107",
   "metadata": {
    "collapsed": false,
    "jupyter": {
     "outputs_hidden": false
    }
   },
   "outputs": [
    {
     "data": {
      "text/plain": [
       "[{u'id': u'ENSG00000139618', u'type': u'gene'},\n",
       " {u'id': u'LRG_293', u'type': u'gene'}]"
      ]
     },
     "execution_count": 22,
     "metadata": {},
     "output_type": "execute_result"
    }
   ],
   "source": [
    "res = e.get_xrefs_by_symbol('BRCA2', 'homo_sapiens',\n",
    "                            external_db='HGNC')    \n",
    "res"
   ]
  },
  {
   "cell_type": "markdown",
   "id": "a7d40106",
   "metadata": {},
   "source": [
    "## <a name=\"information\"></a> Information"
   ]
  },
  {
   "cell_type": "code",
   "execution_count": 23,
   "id": "6eeadccd",
   "metadata": {
    "collapsed": false,
    "jupyter": {
     "outputs_hidden": false
    }
   },
   "outputs": [
    {
     "data": {
      "text/plain": [
       "233"
      ]
     },
     "execution_count": 23,
     "metadata": {},
     "output_type": "execute_result"
    }
   ],
   "source": [
    "len(e.get_info_analysis('human'))"
   ]
  },
  {
   "cell_type": "code",
   "execution_count": 24,
   "id": "c38e86e3",
   "metadata": {
    "collapsed": false,
    "jupyter": {
     "outputs_hidden": false
    }
   },
   "outputs": [
    {
     "data": {
      "text/plain": [
       "[u'1',\n",
       " u'2',\n",
       " u'3',\n",
       " u'4',\n",
       " u'5',\n",
       " u'6',\n",
       " u'7',\n",
       " u'8',\n",
       " u'9',\n",
       " u'10',\n",
       " u'11',\n",
       " u'12',\n",
       " u'13',\n",
       " u'14',\n",
       " u'15',\n",
       " u'16',\n",
       " u'17',\n",
       " u'18',\n",
       " u'19',\n",
       " u'20',\n",
       " u'21',\n",
       " u'22',\n",
       " u'X',\n",
       " u'Y',\n",
       " u'MT']"
      ]
     },
     "execution_count": 24,
     "metadata": {},
     "output_type": "execute_result"
    }
   ],
   "source": [
    "e.get_info_assembly('human')['karyotype']"
   ]
  },
  {
   "cell_type": "code",
   "execution_count": 25,
   "id": "57a0c8d6",
   "metadata": {
    "collapsed": false,
    "jupyter": {
     "outputs_hidden": false
    }
   },
   "outputs": [
    {
     "data": {
      "text/plain": [
       "{u'assembly_exception_type': u'REF',\n",
       " u'assembly_name': u'GRCh38',\n",
       " u'coordinate_system': u'chromosome',\n",
       " u'is_chromosome': 1,\n",
       " u'length': 156040895}"
      ]
     },
     "execution_count": 25,
     "metadata": {},
     "output_type": "execute_result"
    }
   ],
   "source": [
    "e.get_info_assembly_by_region('homo_sapiens', 'X')"
   ]
  },
  {
   "cell_type": "code",
   "execution_count": 26,
   "id": "ec879e68",
   "metadata": {
    "collapsed": false,
    "jupyter": {
     "outputs_hidden": false
    }
   },
   "outputs": [
    {
     "data": {
      "text/plain": [
       "55"
      ]
     },
     "execution_count": 26,
     "metadata": {},
     "output_type": "execute_result"
    }
   ],
   "source": [
    "len(e.get_info_biotypes('human'))"
   ]
  },
  {
   "cell_type": "code",
   "execution_count": 27,
   "id": "f770a9f2",
   "metadata": {
    "collapsed": false,
    "jupyter": {
     "outputs_hidden": false
    }
   },
   "outputs": [
    {
     "data": {
      "text/plain": [
       "{u'ConservationScore.conservation_score': [u'GERP_CONSERVATION_SCORE'],\n",
       " u'ConstrainedElement.constrained_element': [u'GERP_CONSTRAINED_ELEMENT'],\n",
       " u'Family.family': [u'FAMILY'],\n",
       " u'GenomicAlignBlock.multiple_alignment': [u'PECAN'],\n",
       " u'GenomicAlignBlock.pairwise_alignment': [u'TRANSLATED_BLAT_NET',\n",
       "  u'BLASTZ_NET',\n",
       "  u'LASTZ_NET',\n",
       "  u'LASTZ_PATCH'],\n",
       " u'GenomicAlignTree.ancestral_alignment': [u'EPO'],\n",
       " u'GenomicAlignTree.tree_alignment': [u'EPO_LOW_COVERAGE'],\n",
       " u'Homology.homology': [u'ENSEMBL_PROJECTIONS',\n",
       "  u'ENSEMBL_PARALOGUES',\n",
       "  u'ENSEMBL_ORTHOLOGUES'],\n",
       " u'NCTree.nc_tree_node': [u'NC_TREES'],\n",
       " u'ProteinTree.protein_tree_node': [u'PROTEIN_TREES'],\n",
       " u'SyntenyRegion.synteny': [u'SYNTENY']}"
      ]
     },
     "execution_count": 27,
     "metadata": {},
     "output_type": "execute_result"
    }
   ],
   "source": [
    "e.get_info_compara_methods()"
   ]
  },
  {
   "cell_type": "code",
   "execution_count": 28,
   "id": "b6a31d13",
   "metadata": {
    "collapsed": false,
    "jupyter": {
     "outputs_hidden": false
    }
   },
   "outputs": [
    {
     "data": {
      "text/plain": [
       "{u'method': u'EPO',\n",
       " u'name': u'5 teleost fish EPO',\n",
       " u'species_set': [u'oryzias_latipes',\n",
       "  u'takifugu_rubripes',\n",
       "  u'gasterosteus_aculeatus',\n",
       "  u'tetraodon_nigroviridis',\n",
       "  u'danio_rerio'],\n",
       " u'species_set_group': u'fish'}"
      ]
     },
     "execution_count": 28,
     "metadata": {},
     "output_type": "execute_result"
    }
   ],
   "source": [
    "e.get_info_compara_by_method('EPO')[0]"
   ]
  },
  {
   "cell_type": "code",
   "execution_count": 29,
   "id": "d22e0016",
   "metadata": {
    "collapsed": false,
    "jupyter": {
     "outputs_hidden": false
    }
   },
   "outputs": [
    {
     "data": {
      "text/plain": [
       "{u'comparas': [{u'name': u'multi', u'release': 77}]}"
      ]
     },
     "execution_count": 29,
     "metadata": {},
     "output_type": "execute_result"
    }
   ],
   "source": [
    "e.get_info_comparas()"
   ]
  },
  {
   "cell_type": "code",
   "execution_count": 30,
   "id": "fb80eac2",
   "metadata": {
    "collapsed": false,
    "jupyter": {
     "outputs_hidden": false
    }
   },
   "outputs": [
    {
     "data": {
      "text/plain": [
       "{u'releases': [77]}"
      ]
     },
     "execution_count": 30,
     "metadata": {},
     "output_type": "execute_result"
    }
   ],
   "source": [
    "e.get_info_data()"
   ]
  },
  {
   "cell_type": "code",
   "execution_count": 31,
   "id": "4328464b",
   "metadata": {
    "collapsed": false,
    "jupyter": {
     "outputs_hidden": false
    }
   },
   "outputs": [
    {
     "data": {
      "text/plain": [
       "[u'HGNC',\n",
       " u'HGNC_curated_gene',\n",
       " u'HGNC_automatic_gene',\n",
       " u'HGNC_curated_transcript',\n",
       " u'HGNC_automatic_transcript',\n",
       " u'HGNC_trans_name']"
      ]
     },
     "execution_count": 31,
     "metadata": {},
     "output_type": "execute_result"
    }
   ],
   "source": [
    "res = e.get_info_external_dbs('human')\n",
    "[x['name'] for x in res if 'hgnc' in x['name'].lower()]"
   ]
  },
  {
   "cell_type": "code",
   "execution_count": 32,
   "id": "7a6bd959",
   "metadata": {
    "collapsed": false,
    "jupyter": {
     "outputs_hidden": false
    }
   },
   "outputs": [
    {
     "data": {
      "text/plain": [
       "1"
      ]
     },
     "execution_count": 32,
     "metadata": {},
     "output_type": "execute_result"
    }
   ],
   "source": [
    "e.get_info_ping()\n"
   ]
  },
  {
   "cell_type": "code",
   "execution_count": 33,
   "id": "8c12007f",
   "metadata": {
    "collapsed": false,
    "jupyter": {
     "outputs_hidden": false
    }
   },
   "outputs": [
    {
     "data": {
      "text/plain": [
       "{u'release': u'3.1.0'}"
      ]
     },
     "execution_count": 33,
     "metadata": {},
     "output_type": "execute_result"
    }
   ],
   "source": [
    "e.get_info_rest()\n"
   ]
  },
  {
   "cell_type": "code",
   "execution_count": 34,
   "id": "c293ad4f",
   "metadata": {
    "collapsed": false,
    "jupyter": {
     "outputs_hidden": false
    }
   },
   "outputs": [
    {
     "data": {
      "text/plain": [
       "{u'release': 77}"
      ]
     },
     "execution_count": 34,
     "metadata": {},
     "output_type": "execute_result"
    }
   ],
   "source": [
    "res = e.get_info_software()\n",
    "res"
   ]
  },
  {
   "cell_type": "code",
   "execution_count": 35,
   "id": "134e2370",
   "metadata": {
    "collapsed": false,
    "jupyter": {
     "outputs_hidden": false
    }
   },
   "outputs": [
    {
     "data": {
      "text/plain": [
       "[u'ovis_aries']"
      ]
     },
     "execution_count": 35,
     "metadata": {},
     "output_type": "execute_result"
    }
   ],
   "source": [
    "res = e.get_info_species()\n",
    "[x['name'] for x in res['species'] if 'ovis' in x['name']]\n"
   ]
  },
  {
   "cell_type": "markdown",
   "id": "b0dafbae",
   "metadata": {},
   "source": [
    "## <a name=\"lookup\"></a> Lookup"
   ]
  },
  {
   "cell_type": "code",
   "execution_count": 36,
   "id": "0b776843",
   "metadata": {
    "collapsed": false,
    "jupyter": {
     "outputs_hidden": false
    }
   },
   "outputs": [
    {
     "data": {
      "text/plain": [
       "[u'assembly_name',\n",
       " u'display_name',\n",
       " u'description',\n",
       " u'seq_region_name',\n",
       " u'logic_name',\n",
       " u'object_type',\n",
       " u'start',\n",
       " u'id',\n",
       " u'source',\n",
       " u'db_type',\n",
       " u'biotype',\n",
       " u'end',\n",
       " u'Transcript',\n",
       " u'species',\n",
       " u'strand']"
      ]
     },
     "execution_count": 36,
     "metadata": {},
     "output_type": "execute_result"
    }
   ],
   "source": [
    "res = e.get_lookup_by_id('ENSG00000157764', expand=True)\n",
    "res.keys()"
   ]
  },
  {
   "cell_type": "code",
   "execution_count": 37,
   "id": "0ac06a34",
   "metadata": {
    "collapsed": false,
    "jupyter": {
     "outputs_hidden": false
    }
   },
   "outputs": [
    {
     "data": {
      "text/plain": [
       "{u'assembly_name': u'GRCh38',\n",
       " u'biotype': u'protein_coding',\n",
       " u'db_type': u'core',\n",
       " u'description': u'B-Raf proto-oncogene, serine/threonine kinase [Source:HGNC Symbol;Acc:HGNC:1097]',\n",
       " u'display_name': u'BRAF',\n",
       " u'end': 140924764,\n",
       " u'id': u'ENSG00000157764',\n",
       " u'logic_name': u'ensembl_havana_gene',\n",
       " u'object_type': u'Gene',\n",
       " u'seq_region_name': u'7',\n",
       " u'source': u'ensembl_havana',\n",
       " u'species': u'homo_sapiens',\n",
       " u'start': 140719327,\n",
       " u'strand': -1}"
      ]
     },
     "execution_count": 37,
     "metadata": {},
     "output_type": "execute_result"
    }
   ],
   "source": [
    "res = e.post_lookup_by_id([\"ENSG00000157764\", \"ENSG00000248378\" ], \n",
    "                          expand=0)\n",
    "res['ENSG00000157764']\n"
   ]
  },
  {
   "cell_type": "code",
   "execution_count": 38,
   "id": "f6b5b5dc",
   "metadata": {
    "collapsed": false,
    "jupyter": {
     "outputs_hidden": false
    }
   },
   "outputs": [
    {
     "data": {
      "text/plain": [
       "7"
      ]
     },
     "execution_count": 38,
     "metadata": {},
     "output_type": "execute_result"
    }
   ],
   "source": [
    "res = e.get_lookup_by_symbol('homo_sapiens', 'BRCA2', expand=True)\n",
    "len(res['Transcript'])"
   ]
  },
  {
   "cell_type": "code",
   "execution_count": 39,
   "id": "145067e0",
   "metadata": {
    "collapsed": false,
    "jupyter": {
     "outputs_hidden": false
    }
   },
   "outputs": [
    {
     "data": {
      "text/plain": [
       "7"
      ]
     },
     "execution_count": 39,
     "metadata": {},
     "output_type": "execute_result"
    }
   ],
   "source": [
    "res = e.post_lookup_by_symbol('human', [\"BRCA2\", \"BRAF\" ], expand=True)\n",
    "len(res['BRCA2']['Transcript'])"
   ]
  },
  {
   "cell_type": "markdown",
   "id": "b3d6a194",
   "metadata": {},
   "source": [
    "## <a name=\"mapping\"></a> Mapping"
   ]
  },
  {
   "cell_type": "markdown",
   "id": "c45daeb7",
   "metadata": {},
   "source": [
    "\tDescription\n",
    "- Convert from cDNA coordinates to genomic coordinates. Output reflects forward orientation coordinates as returned from the Ensembl API.\n",
    "- GET map/cds/:id/:region \tConvert from CDS coordinates to genomic coordinates. Output reflects forward orientation coordinates as returned from the Ensembl API.\n",
    "- GET map/:species/:asm_one/:region/:asm_two \tConvert the co-ordinates of one assembly to another\n",
    "- GET map/translation/:id/:region \tConvert from protein (translation) coordinates to genomic coordinates. Output reflects forward orientation coordinates as returned from the Ensembl "
   ]
  },
  {
   "cell_type": "code",
   "execution_count": 40,
   "id": "c9b4b427",
   "metadata": {
    "collapsed": false,
    "jupyter": {
     "outputs_hidden": false
    }
   },
   "outputs": [
    {
     "data": {
      "text/plain": [
       "{u'mappings': [{u'mapped': {u'assembly': u'GRCh38',\n",
       "    u'coordinate_system': u'chromosome',\n",
       "    u'end': 1039365,\n",
       "    u'seq_region_name': u'X',\n",
       "    u'start': 1039265,\n",
       "    u'strand': 1},\n",
       "   u'original': {u'assembly': u'GRCh37',\n",
       "    u'coordinate_system': u'chromosome',\n",
       "    u'end': 1000100,\n",
       "    u'seq_region_name': u'X',\n",
       "    u'start': 1000000,\n",
       "    u'strand': 1}}]}"
      ]
     },
     "execution_count": 40,
     "metadata": {},
     "output_type": "execute_result"
    }
   ],
   "source": [
    "# the commented statement does not work\n",
    "# res = e.get_map_assembly_one_to_two('GRCh37', 'NCBI36',\n",
    "# region='X:10000000..1000100:1', species='human')\n",
    "res = e.get_map_assembly_one_to_two('GRCh37', 'GRCh38', \n",
    "                                    region='X:1000000..1000100:1')\n",
    "res"
   ]
  },
  {
   "cell_type": "code",
   "execution_count": 41,
   "id": "870268fb",
   "metadata": {
    "collapsed": false,
    "jupyter": {
     "outputs_hidden": false
    }
   },
   "outputs": [
    {
     "data": {
      "text/plain": [
       "{u'assembly_name': u'GRCh38',\n",
       " u'coord_system': u'chromosome',\n",
       " u'end': 140834815,\n",
       " u'gap': 0,\n",
       " u'rank': 0,\n",
       " u'seq_region_name': u'7',\n",
       " u'start': 140834609,\n",
       " u'strand': -1}"
      ]
     },
     "execution_count": 41,
     "metadata": {},
     "output_type": "execute_result"
    }
   ],
   "source": [
    "res = e.get_map_translation_to_region('ENSP00000288602', '100..300')\n",
    "res['mappings'][0]  "
   ]
  },
  {
   "cell_type": "code",
   "execution_count": 42,
   "id": "6020b413",
   "metadata": {
    "collapsed": false,
    "jupyter": {
     "outputs_hidden": false
    }
   },
   "outputs": [
    {
     "data": {
      "text/plain": [
       "{u'assembly_name': u'GRCh38',\n",
       " u'coord_system': u'chromosome',\n",
       " u'end': 140924703,\n",
       " u'gap': 0,\n",
       " u'rank': 0,\n",
       " u'seq_region_name': u'7',\n",
       " u'start': 140924566,\n",
       " u'strand': -1}"
      ]
     },
     "execution_count": 42,
     "metadata": {},
     "output_type": "execute_result"
    }
   ],
   "source": [
    "res = e.get_map_cds_to_region('ENST00000288602', '1..1000')\n",
    "res['mappings'][0]"
   ]
  },
  {
   "cell_type": "code",
   "execution_count": 43,
   "id": "dac963ce",
   "metadata": {
    "collapsed": false,
    "jupyter": {
     "outputs_hidden": false
    }
   },
   "outputs": [
    {
     "data": {
      "text/plain": [
       "{u'assembly_name': u'GRCh38',\n",
       " u'coord_system': u'chromosome',\n",
       " u'end': 140924665,\n",
       " u'gap': 0,\n",
       " u'rank': 0,\n",
       " u'seq_region_name': u'7',\n",
       " u'start': 140924566,\n",
       " u'strand': -1}"
      ]
     },
     "execution_count": 43,
     "metadata": {},
     "output_type": "execute_result"
    }
   ],
   "source": [
    "res = e.get_map_cdna_to_region('ENST00000288602', '100..300')\n",
    "res['mappings'][0]"
   ]
  },
  {
   "cell_type": "markdown",
   "id": "6826cf97",
   "metadata": {},
   "source": [
    "## <a name=\"ontology\"></a> Ontologies and Taxonomy"
   ]
  },
  {
   "cell_type": "code",
   "execution_count": 44,
   "id": "fe67f1e1",
   "metadata": {
    "collapsed": false,
    "jupyter": {
     "outputs_hidden": false
    }
   },
   "outputs": [
    {
     "data": {
      "text/plain": [
       "[u'definition',\n",
       " u'name',\n",
       " u'subsets',\n",
       " u'namespace',\n",
       " u'accession',\n",
       " u'synonyms',\n",
       " u'ontology']"
      ]
     },
     "execution_count": 44,
     "metadata": {},
     "output_type": "execute_result"
    }
   ],
   "source": [
    "res = e.get_ontology_ancestors_by_id('GO:0005667')\n",
    "res[0].keys()"
   ]
  },
  {
   "cell_type": "code",
   "execution_count": 45,
   "id": "26c42f53",
   "metadata": {
    "collapsed": false,
    "jupyter": {
     "outputs_hidden": false
    }
   },
   "outputs": [],
   "source": [
    "res = e.get_ontology_ancestors_chart_by_id('GO:0005667')"
   ]
  },
  {
   "cell_type": "code",
   "execution_count": 46,
   "id": "8535d3aa",
   "metadata": {
    "collapsed": false,
    "jupyter": {
     "outputs_hidden": false
    }
   },
   "outputs": [
    {
     "data": {
      "text/plain": [
       "u'GO:0043234'"
      ]
     },
     "execution_count": 46,
     "metadata": {},
     "output_type": "execute_result"
    }
   ],
   "source": [
    "res = e.get_ontology_descendants_by_id('GO:0005667')\n",
    "res[0]['accession']"
   ]
  },
  {
   "cell_type": "code",
   "execution_count": 47,
   "id": "1f63e145",
   "metadata": {
    "collapsed": false,
    "jupyter": {
     "outputs_hidden": false
    }
   },
   "outputs": [
    {
     "data": {
      "text/plain": [
       "u'GO:0005667'"
      ]
     },
     "execution_count": 47,
     "metadata": {},
     "output_type": "execute_result"
    }
   ],
   "source": [
    "res = e.get_ontology_by_id('GO:0005667')\n",
    "res['accession']"
   ]
  },
  {
   "cell_type": "code",
   "execution_count": 48,
   "id": "a2b581d8",
   "metadata": {
    "collapsed": false,
    "jupyter": {
     "outputs_hidden": false
    }
   },
   "outputs": [],
   "source": [
    "res = e.get_ontology_by_name('transcription factor complex')"
   ]
  },
  {
   "cell_type": "code",
   "execution_count": 49,
   "id": "d9ca03e4",
   "metadata": {
    "collapsed": false,
    "jupyter": {
     "outputs_hidden": false
    }
   },
   "outputs": [
    {
     "data": {
      "text/plain": [
       "[{u'id': u'9606',\n",
       "  u'leaf': 0,\n",
       "  u'name': u'Homo sapiens',\n",
       "  u'scientific_name': u'Homo sapiens',\n",
       "  u'tags': {u'authority': [u'Homo sapiens Linnaeus, 1758'],\n",
       "   u'common name': [u'man'],\n",
       "   u'ensembl alias name': [u'Human'],\n",
       "   u'genbank common name': [u'human'],\n",
       "   u'name': [u'Homo sapiens'],\n",
       "   u'scientific name': [u'Homo sapiens']}}]"
      ]
     },
     "execution_count": 49,
     "metadata": {},
     "output_type": "execute_result"
    }
   ],
   "source": [
    "res = e.get_taxonomy_classification_by_id(9606)\n",
    "res[0]['children']"
   ]
  },
  {
   "cell_type": "code",
   "execution_count": 50,
   "id": "5ec46742",
   "metadata": {
    "collapsed": false,
    "jupyter": {
     "outputs_hidden": false
    }
   },
   "outputs": [],
   "source": [
    "res = e.get_taxonomy_by_name('Homo')"
   ]
  },
  {
   "cell_type": "code",
   "execution_count": 51,
   "id": "650f2a42",
   "metadata": {
    "collapsed": false,
    "jupyter": {
     "outputs_hidden": false
    }
   },
   "outputs": [
    {
     "data": {
      "text/plain": [
       "u'Homo sapiens'"
      ]
     },
     "execution_count": 51,
     "metadata": {},
     "output_type": "execute_result"
    }
   ],
   "source": [
    "e.get_taxonomy_by_id(9606)['scientific_name']"
   ]
  },
  {
   "cell_type": "markdown",
   "id": "8e75b79b",
   "metadata": {},
   "source": [
    "## <a name=\"overlap\"></a> Overlap"
   ]
  },
  {
   "cell_type": "code",
   "execution_count": 52,
   "id": "114a447c",
   "metadata": {
    "collapsed": false,
    "jupyter": {
     "outputs_hidden": false
    }
   },
   "outputs": [
    {
     "data": {
      "text/plain": [
       "3"
      ]
     },
     "execution_count": 52,
     "metadata": {},
     "output_type": "execute_result"
    }
   ],
   "source": [
    "res = e.get_overlap_by_id(\"ENSG00000157764\", feature='gene')\n",
    "len(res)"
   ]
  },
  {
   "cell_type": "code",
   "execution_count": 53,
   "id": "c249a4a3",
   "metadata": {
    "collapsed": false,
    "jupyter": {
     "outputs_hidden": false
    }
   },
   "outputs": [
    {
     "data": {
      "text/plain": [
       "4"
      ]
     },
     "execution_count": 53,
     "metadata": {},
     "output_type": "execute_result"
    }
   ],
   "source": [
    "#ture=transcript;feature=cds;feature=exon\n",
    "res = e.get_overlap_by_region('7:140424943-140624564', \n",
    "                              species='human', feature='gene')\n",
    "len(res)"
   ]
  },
  {
   "cell_type": "code",
   "execution_count": 54,
   "id": "103e5bcc",
   "metadata": {
    "collapsed": false,
    "jupyter": {
     "outputs_hidden": false
    }
   },
   "outputs": [
    {
     "data": {
      "text/plain": [
       "3"
      ]
     },
     "execution_count": 54,
     "metadata": {},
     "output_type": "execute_result"
    }
   ],
   "source": [
    "res = e.get_overlap_by_translation('ENSP00000288602', type='Superfamily')\n",
    "len(res)"
   ]
  },
  {
   "cell_type": "code",
   "execution_count": 55,
   "id": "fb682579",
   "metadata": {
    "collapsed": false,
    "jupyter": {
     "outputs_hidden": false
    }
   },
   "outputs": [
    {
     "data": {
      "text/plain": [
       "113"
      ]
     },
     "execution_count": 55,
     "metadata": {},
     "output_type": "execute_result"
    }
   ],
   "source": [
    "#feature=transcript_variation;contson;\n",
    "res = e.get_overlap_by_translation('ENSP00000288602', \n",
    "                                   type='missense_variant',\n",
    "                                   feature='transcript_variation')\n",
    "\n",
    "len(res)"
   ]
  },
  {
   "cell_type": "code",
   "execution_count": 56,
   "id": "425abe12",
   "metadata": {
    "collapsed": false,
    "jupyter": {
     "outputs_hidden": false
    }
   },
   "outputs": [
    {
     "data": {
      "text/plain": [
       "215"
      ]
     },
     "execution_count": 56,
     "metadata": {},
     "output_type": "execute_result"
    }
   ],
   "source": [
    "res = e.get_overlap_by_translation('ENSP00000288602', \n",
    "                                   type='missense_variant',\n",
    "                                   feature='somatic_transcript_variation')\n",
    "\n",
    "len(res)"
   ]
  },
  {
   "cell_type": "markdown",
   "id": "0d7b7911",
   "metadata": {},
   "source": [
    "## <a name=\"regulation\"></a> Regulation"
   ]
  },
  {
   "cell_type": "code",
   "execution_count": 57,
   "id": "6e58c3f7",
   "metadata": {
    "collapsed": false,
    "jupyter": {
     "outputs_hidden": false
    }
   },
   "outputs": [
    {
     "data": {
      "text/plain": [
       "{u'ID': u'ENSR00001348195',\n",
       " u'activity_evidence': 1,\n",
       " u'bound_end': 48551079,\n",
       " u'bound_start': 48538280,\n",
       " u'cell_type': u'MultiCell',\n",
       " u'description': u'Predicted promoter',\n",
       " u'end': 48545479,\n",
       " u'feature_type': u'regulatory',\n",
       " u'seq_region_name': u'17',\n",
       " u'start': 48541080,\n",
       " u'strand': u'0'}"
      ]
     },
     "execution_count": 57,
     "metadata": {},
     "output_type": "execute_result"
    }
   ],
   "source": [
    "e.get_regulatory_by_id('ENSR00001348195', 'human')"
   ]
  },
  {
   "cell_type": "markdown",
   "id": "d44115d7",
   "metadata": {},
   "source": [
    "## <a name=\"sequences\"></a> Sequences"
   ]
  },
  {
   "cell_type": "code",
   "execution_count": 58,
   "id": "277cde3b",
   "metadata": {
    "collapsed": false,
    "jupyter": {
     "outputs_hidden": false
    }
   },
   "outputs": [
    {
     "name": "stdout",
     "output_type": "stream",
     "text": [
      "CGCCTCCCTTCCCCCTCCCCGCCCGACAGCGGCCGCTCGGGCCCCGGCTCTCGGTTATAAGATGGCGGCGCTGAGCGGTGGCGGTGGTGGCGGCGCGGAGCCGGGCCAGGCTCTGTTCAA\n"
     ]
    }
   ],
   "source": [
    "sequence = e.get_sequence_by_id('ENSG00000157764', frmt='text')\n",
    "print(sequence[0:120])"
   ]
  },
  {
   "cell_type": "code",
   "execution_count": 59,
   "id": "392bec2f",
   "metadata": {
    "collapsed": false,
    "jupyter": {
     "outputs_hidden": false
    }
   },
   "outputs": [
    {
     "name": "stdout",
     "output_type": "stream",
     "text": [
      ">ENSG00000157764 chromosome:GRCh38:7:140719327:140924764:-1\n",
      "CGCCTCCCTTCCCCCTCCCCGCCCGACAGCGGCCGCTCGGGCCCCGGCTCTCGGTTATAA\n"
     ]
    }
   ],
   "source": [
    "sequence = e.get_sequence_by_id('ENSG00000157764', frmt='fasta')\n",
    "print(sequence[0:120])"
   ]
  },
  {
   "cell_type": "code",
   "execution_count": 60,
   "id": "ecca1d0a",
   "metadata": {
    "collapsed": false,
    "jupyter": {
     "outputs_hidden": false
    }
   },
   "outputs": [
    {
     "name": "stdout",
     "output_type": "stream",
     "text": [
      ">CCDS5863.1\n",
      "ATGGCGGCGCTGAGCGGTGGCGGTGGTGGCGGCGCGGAGCCGGGCCAGGCTCTGTTCAAC\n",
      "GGGGACATGGAGCCCGAGGCCGGCGCCGGCGCCGGCGCCGCGGCCTC\n"
     ]
    }
   ],
   "source": [
    "sequence = e.get_sequence_by_id('CCDS5863.1', frmt='fasta', \n",
    "                     object_type='transcript', db_type='otherfeatures',\n",
    "                     type='cds', species='human')\n",
    "print(sequence[0:120])"
   ]
  },
  {
   "cell_type": "code",
   "execution_count": 61,
   "id": "865a9451",
   "metadata": {
    "collapsed": false,
    "jupyter": {
     "outputs_hidden": false
    }
   },
   "outputs": [
    {
     "name": "stdout",
     "output_type": "stream",
     "text": [
      "<?xml version=\"1.0\" encoding=\"UTF-8\"?>\n",
      "\n",
      "<seqXML xsi:noNamespaceSchemaLocation=\"http://www.seqxml.org/0.4/seqxml.xsd\" seqXMLversion=\"0.4\" xmlns:xsi=\"http://www.w3.org/2001/XMLSchema-instance\">\n",
      "  <entry id=\"ENSP00000419060\">\n",
      "    <AAseq>XSTTGL\n"
     ]
    }
   ],
   "source": [
    "sequence = e.get_sequence_by_id('ENSG00000157764', frmt='seqxml',\n",
    "                                multiple_sequences=True,type='protein')\n",
    "print(sequence[0:240])"
   ]
  },
  {
   "cell_type": "code",
   "execution_count": 62,
   "id": "ec4bbe0e",
   "metadata": {
    "collapsed": false,
    "jupyter": {
     "outputs_hidden": false
    }
   },
   "outputs": [
    {
     "data": {
      "text/plain": [
       "{u'id': u'chromosome:GRCh38:X:1000000:1000100:1',\n",
       " u'molecule': u'dna',\n",
       " u'seq': u'ctgtagaaacattagcctggctaacaaggtgaaaccccatctctactaacaatacaaaatattggttgggcgtggtggcgggtgcttgtaatcccagctac'}"
      ]
     },
     "execution_count": 62,
     "metadata": {},
     "output_type": "execute_result"
    }
   ],
   "source": [
    "sequence = e.get_sequence_by_region('X:1000000..1000100:1', 'human')\n",
    "sequence"
   ]
  },
  {
   "cell_type": "code",
   "execution_count": 63,
   "id": "f09e0bd8",
   "metadata": {
    "collapsed": false,
    "jupyter": {
     "outputs_hidden": false
    }
   },
   "outputs": [
    {
     "data": {
      "text/plain": [
       "{u'id': u'contig::ABBA01004489.1:1:100:1',\n",
       " u'molecule': u'dna',\n",
       " u'seq': u'ctgtactttccttgggatggagtagtttcgaaacacactttctgtagaatctgcaagtggatatttggacctgtctgaggaattcgttggaaacgggata'}"
      ]
     },
     "execution_count": 63,
     "metadata": {},
     "output_type": "execute_result"
    }
   ],
   "source": [
    "sequence = e.get_sequence_by_region('ABBA01004489.1:1..100', 'human',\n",
    "                                    frmt='json', coord_system='seqlevel')\n",
    "sequence"
   ]
  },
  {
   "cell_type": "markdown",
   "id": "5cbd6b66",
   "metadata": {},
   "source": [
    "## <a name=variation></a> Variation"
   ]
  },
  {
   "cell_type": "code",
   "execution_count": 64,
   "id": "11c5e49d",
   "metadata": {
    "collapsed": false,
    "jupyter": {
     "outputs_hidden": false
    }
   },
   "outputs": [
    {
     "data": {
      "text/plain": [
       "{u'MAF': u'0.00367309',\n",
       " u'ambiguity': u'Y',\n",
       " u'ancestral_allele': u'C',\n",
       " u'evidence': [u'Multiple_observations', u'1000Genomes', u'ESP'],\n",
       " u'mappings': [{u'allele_string': u'C/T',\n",
       "   u'assembly_name': u'GRCh38',\n",
       "   u'coord_system': u'chromosome',\n",
       "   u'end': 133256042,\n",
       "   u'location': u'9:133256042-133256042',\n",
       "   u'seq_region_name': u'9',\n",
       "   u'start': 133256042,\n",
       "   u'strand': 1}],\n",
       " u'most_severe_consequence': u'Missense variant',\n",
       " u'name': u'rs56116432',\n",
       " u'source': u'Variants (including SNPs and indels) imported from dbSNP (mapped to GRCh38)',\n",
       " u'synonyms': [],\n",
       " u'var_class': u'SNP'}"
      ]
     },
     "execution_count": 64,
     "metadata": {},
     "output_type": "execute_result"
    }
   ],
   "source": [
    "e.get_variation_by_id('rs56116432', 'human')"
   ]
  },
  {
   "cell_type": "code",
   "execution_count": 65,
   "id": "a0eab21f",
   "metadata": {
    "collapsed": false,
    "jupyter": {
     "outputs_hidden": false
    }
   },
   "outputs": [],
   "source": [
    "res = e.get_vep_by_id('COSM476', 'human')\n"
   ]
  },
  {
   "cell_type": "code",
   "execution_count": 66,
   "id": "32c90cb1",
   "metadata": {
    "collapsed": false,
    "jupyter": {
     "outputs_hidden": false
    }
   },
   "outputs": [],
   "source": [
    "res = e.get_vep_by_id('rs116035550', 'human')"
   ]
  },
  {
   "cell_type": "code",
   "execution_count": 67,
   "id": "b2d4e53a",
   "metadata": {
    "collapsed": false,
    "jupyter": {
     "outputs_hidden": false
    }
   },
   "outputs": [
    {
     "data": {
      "text/plain": [
       "u'downstream_gene_variant'"
      ]
     },
     "execution_count": 67,
     "metadata": {},
     "output_type": "execute_result"
    }
   ],
   "source": [
    "res =e.get_vep_by_region('9:22125503-22125502:1', 'C', 'human')\n",
    "res[0]['most_severe_consequence']"
   ]
  },
  {
   "cell_type": "code",
   "execution_count": null,
   "id": "59c811f7",
   "metadata": {
    "collapsed": false,
    "jupyter": {
     "outputs_hidden": false
    }
   },
   "outputs": [],
   "source": []
  }
 ],
 "metadata": {
  "kernelspec": {
   "display_name": "Python 3 (ipykernel)",
   "language": "python",
   "name": "python3"
  },
  "language_info": {
   "codemirror_mode": {
    "name": "ipython",
    "version": 3
   },
   "file_extension": ".py",
   "mimetype": "text/x-python",
   "name": "python",
   "nbconvert_exporter": "python",
   "pygments_lexer": "ipython3",
   "version": "3.7.3"
  }
 },
 "nbformat": 4,
 "nbformat_minor": 5
}
